{
 "cells": [
  {
   "cell_type": "markdown",
   "metadata": {},
   "source": [
    "# Simple Attack\n",
    "\n",
    "In this notebook, we will examine perhaps the simplest possible attack on an individual's private data and what the WhiteNoise library can do to mitigate it."
   ]
  },
  {
   "cell_type": "code",
   "execution_count": 1,
   "metadata": {},
   "outputs": [
    {
     "name": "stdout",
     "output_type": "stream",
     "text": [
      "person of interest:\n",
      "\n",
      "sex           0.0\n",
      "age          45.0\n",
      "educ          6.0\n",
      "income     6000.0\n",
      "married       1.0\n",
      "race          1.0\n",
      "Name: 0, dtype: float64\n"
     ]
    }
   ],
   "source": [
    "import os \n",
    "import numpy as np\n",
    "import pandas as pd\n",
    "\n",
    "# load data\n",
    "data = pd.read_csv(os.path.join('data', 'pums_10000.csv'))\n",
    "n_obs = data.shape[0]\n",
    "\n",
    "person_of_interest = data.iloc[0]\n",
    "print('person of interest:\\n\\n{0}'.format(person_of_interest))\n"
   ]
  },
  {
   "cell_type": "markdown",
   "metadata": {},
   "source": [
    "Consider an attacker who knows everything about the data except for the person of interest's (POI) income, which is considered private. They can back out the individual's income very easily, just from asking for the mean overall mean income.    "
   ]
  },
  {
   "cell_type": "code",
   "execution_count": 2,
   "metadata": {},
   "outputs": [
    {
     "name": "stdout",
     "output_type": "stream",
     "text": [
      "poi_income: 6000.0\n"
     ]
    }
   ],
   "source": [
    "# they already know everyone else's income\n",
    "known_mean = np.mean(data.iloc[1:]['income'])\n",
    "known_obs = n_obs - 1\n",
    "\n",
    "# overall mean\n",
    "overall_mean = np.mean(data['income'])\n",
    "\n",
    "# back out POI's income\n",
    "poi_income = overall_mean * n_obs - known_obs * known_mean\n",
    "print('poi_income: {0}'.format(poi_income))"
   ]
  },
  {
   "cell_type": "markdown",
   "metadata": {},
   "source": [
    "The attacker now knows with certainty that the POI has an income of \\\\$6,000. Let's see what happens if the attacker were made to interact with the data through WhiteNoise and was given a privacy budget of $\\epsilon = 1$. We will assume that the attacker is reasonably familiar with differential privacy and believes that they should use tighter data bounds than they know are actually in the data in order to get a less noisy estimate. They will need to update their `known_mean` accordingly.\n",
    "\n",
    "We will also assume that the attacker will spend all of their privacy budget on a single query. This assumption can be changed by changing the `n_queries` variable below. \n",
    "\n",
    "We will be using `n_sims` to simulate the process a number of times to get a sense for various possible outcomes for the attacker. In practice, they would see the result of only one simulation."
   ]
  },
  {
   "cell_type": "code",
   "execution_count": 3,
   "metadata": {},
   "outputs": [],
   "source": [
    "import opendp.whitenoise.core as wn\n",
    "\n",
    "data_path = os.path.join('data', 'pums_10000.csv')\n",
    "var_names = ['sex', 'age', 'educ', 'income', 'married', 'race']\n",
    "\n",
    "# update known_mean\n",
    "known_mean = np.mean(np.clip(data.iloc[1:]['income'], 0, 100_000))\n",
    "\n",
    "# initialize vector to store estimated overall means\n",
    "n_sims = 10_000\n",
    "n_queries = 1\n",
    "poi_income_ests = []\n",
    "estimated_means = []\n",
    "\n",
    "# get estimates of overall means\n",
    "for i in range(n_sims):\n",
    "    query_means = []\n",
    "    with wn.Analysis() as analysis:\n",
    "        income = wn.resize(\n",
    "            wn.to_float(wn.Dataset(path = data_path, column_names = var_names)['income']),\n",
    "            number_rows = n_obs,\n",
    "            data_lower = 0.,\n",
    "            data_upper = 100_000.)\n",
    "        \n",
    "        for j in range(n_queries):\n",
    "            query_means.append(wn.dp_mean(\n",
    "                data = income,\n",
    "                privacy_usage = {'epsilon': 1/n_queries}))\n",
    "    analysis.release()\n",
    "\n",
    "    # get estimates of POI income\n",
    "    estimated_means.append(np.mean([mean.value for mean in query_means]))\n",
    "    poi_income_ests.append(estimated_means[i] * n_obs - known_obs * known_mean)"
   ]
  },
  {
   "cell_type": "code",
   "execution_count": 6,
   "metadata": {},
   "outputs": [
    {
     "name": "stdout",
     "output_type": "stream",
     "text": [
      "Known Mean Income (after truncation): 26886.001600160016\n",
      "Observed Mean Income: 26883.91416432742\n",
      "Estimated POI Income: 6011.64327417759\n",
      "True POI Income: 6000.0\n"
     ]
    }
   ],
   "source": [
    "# get mean of estimates\n",
    "print('Known Mean Income (after truncation): {0}'.format(known_mean))\n",
    "print('Observed Mean Income: {0}'.format(np.mean(estimated_means)))\n",
    "print('Estimated POI Income: {0}'.format(np.mean(poi_income_ests)))\n",
    "print('True POI Income: {0}'.format(person_of_interest['income']))"
   ]
  },
  {
   "cell_type": "markdown",
   "metadata": {},
   "source": [
    "We see empirically that, in expectation, the attacker can get a reasonably good estimate of POI's income. However, they will rarely (if ever) get it exactly and would have no way of knowing if they did.\n",
    "\n",
    "Below is a plot showing an the empirical distribution of estimates of POI income."
   ]
  },
  {
   "cell_type": "code",
   "execution_count": 7,
   "metadata": {},
   "outputs": [
    {
     "data": {
      "text/plain": [
       "[Text(0.5, 0, 'Estimated POI income')]"
      ]
     },
     "execution_count": 7,
     "metadata": {},
     "output_type": "execute_result"
    },
    {
     "data": {
      "image/png": "[encoded data removed]",
      "text/plain": [
       "<Figure size 432x288 with 1 Axes>"
      ]
     },
     "metadata": {
      "needs_background": "light"
     },
     "output_type": "display_data"
    }
   ],
   "source": [
    "import seaborn as sns\n",
    "\n",
    "# distribution of POI income\n",
    "ax = sns.distplot(poi_income_ests, kde = False, hist_kws = dict(edgecolor = 'black', linewidth = 1))\n",
    "ax.set(xlabel = 'Estimated POI income')"
   ]
  }
 ],
 "metadata": {
  "file_extension": ".py",
  "kernelspec": {
   "display_name": "Python 3",
   "language": "python",
   "name": "python3"
  },
  "language_info": {
   "codemirror_mode": {
    "name": "ipython",
    "version": 3
   },
   "file_extension": ".py",
   "mimetype": "text/x-python",
   "name": "python",
   "nbconvert_exporter": "python",
   "pygments_lexer": "ipython3",
   "version": "3.7.4"
  },
  "mimetype": "text/x-python",
  "name": "python",
  "npconvert_exporter": "python",
  "pygments_lexer": "ipython3",
  "version": 3
 },
 "nbformat": 4,
 "nbformat_minor": 2
}
